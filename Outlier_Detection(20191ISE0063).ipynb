{
  "nbformat": 4,
  "nbformat_minor": 0,
  "metadata": {
    "colab": {
      "name": "Outlier Detection(20191ISE0063).ipynb",
      "provenance": [],
      "collapsed_sections": []
    },
    "kernelspec": {
      "name": "python3",
      "display_name": "Python 3"
    },
    "language_info": {
      "name": "python"
    }
  },
  "cells": [
    {
      "cell_type": "markdown",
      "source": [
        "**Outlier Detection with Python:**"
      ],
      "metadata": {
        "id": "vU6iFG9g-_H5"
      }
    },
    {
      "cell_type": "markdown",
      "source": [
        "Outlier Detection in Machine Learning using Hypothesis Testing:"
      ],
      "metadata": {
        "id": "73m14duY_F6-"
      }
    },
    {
      "cell_type": "code",
      "source": [
        "import numpy as np\n",
        "import scipy.stats as stats\n",
        "x = np.array([12,13,14,19,21,23])\n",
        "y = np.array([12,13,14,19,21,23,45])\n",
        "def grubbs_test(x):\n",
        "    n = len(x)\n",
        "    mean_x = np.mean(x)\n",
        "    sd_x = np.std(x)\n",
        "    numerator = max(abs(x-mean_x))\n",
        "    g_calculated = numerator/sd_x\n",
        "    print(\"Grubbs Calculated Value:\",g_calculated)\n",
        "    t_value = stats.t.ppf(1 - 0.05 / (2 * n), n - 2)\n",
        "    g_critical = ((n - 1) * np.sqrt(np.square(t_value))) / (np.sqrt(n) * np.sqrt(n - 2 + np.square(t_value)))\n",
        "    print(\"Grubbs Critical Value:\",g_critical)\n",
        "    if g_critical > g_calculated:\n",
        "        print(\"From grubbs_test we observe that calculated value is lesser than critical value, Accept null hypothesis and conclude that there is no outliers\\n\")\n",
        "    else:\n",
        "        print(\"From grubbs_test we observe that calculated value is greater than critical value, Reject null hypothesis and conclude that there is an outliers\\n\")\n",
        "grubbs_test(x)\n",
        "grubbs_test(y)"
      ],
      "metadata": {
        "colab": {
          "base_uri": "https://localhost:8080/"
        },
        "id": "HvhH4Nik9WeK",
        "outputId": "8e09e562-f121-4d17-a639-b4d1ac22ed7d"
      },
      "execution_count": 3,
      "outputs": [
        {
          "output_type": "stream",
          "name": "stdout",
          "text": [
            "Grubbs Calculated Value: 1.4274928542926593\n",
            "Grubbs Critical Value: 1.887145117792422\n",
            "From grubbs_test we observe that calculated value is lesser than critical value, Accept null hypothesis and conclude that there is no outliers\n",
            "\n",
            "Grubbs Calculated Value: 2.2765147221587774\n",
            "Grubbs Critical Value: 2.019968507680656\n",
            "From grubbs_test we observe that calculated value is greater than critical value, Reject null hypothesis and conclude that there is an outliers\n",
            "\n"
          ]
        }
      ]
    }
  ]
}